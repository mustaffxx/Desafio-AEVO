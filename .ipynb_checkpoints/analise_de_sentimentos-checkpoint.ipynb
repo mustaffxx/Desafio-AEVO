{
 "cells": [
  {
   "cell_type": "markdown",
   "metadata": {
    "colab_type": "text",
    "id": "UIwPFp1HtMEt"
   },
   "source": [
    "# Desafio AEVO\n",
    "**Felipe Amorim**\n",
    "<br/>\n",
    "Python 3.8.5"
   ]
  },
  {
   "cell_type": "markdown",
   "metadata": {
    "colab_type": "text",
    "id": "TWK2QZXXvL2R"
   },
   "source": [
    "# Análise de Sentimentos\n",
    "Este notebook contém uma análise de sentimentos com o objetivo de classificar se determinadas sentenças são positivas ou negativas.\n",
    "</br>Foi utilizado um dataset com 785814 tweets disponibilizado no [kaggle](https://www.kaggle.com/augustop/portuguese-tweets-for-sentiment-analysis).\n"
   ]
  },
  {
   "cell_type": "markdown",
   "metadata": {},
   "source": [
    "### Instalação dos pacotes\n",
    "Para a utilização da lemmatização do  ***spacy*** é necessário utilizar Python 64 bits."
   ]
  },
  {
   "cell_type": "code",
   "execution_count": 1,
   "metadata": {
    "colab": {
     "base_uri": "https://localhost:8080/",
     "height": 128
    },
    "colab_type": "code",
    "id": "d6zEhyQANPOV",
    "outputId": "0f84d531-f5b8-45ee-fd4d-afe51def7497"
   },
   "outputs": [],
   "source": [
    "#!pip install pandas\n",
    "#!pip install sklearn\n",
    "#!pip install matplotlib\n",
    "#!pip install nltk\n",
    "#!python -m pip install spacy\n",
    "#!python -m spacy download pt_core_news_sm"
   ]
  },
  {
   "cell_type": "markdown",
   "metadata": {
    "colab_type": "text",
    "id": "0qMQw0EdxdQp"
   },
   "source": [
    "### Importação das bibliotecas"
   ]
  },
  {
   "cell_type": "code",
   "execution_count": 2,
   "metadata": {
    "colab": {
     "base_uri": "https://localhost:8080/",
     "height": 528
    },
    "colab_type": "code",
    "id": "-n_M8chLUtNR",
    "outputId": "3c6e24ed-95ab-4f42-a27f-652092d94211"
   },
   "outputs": [
    {
     "name": "stderr",
     "output_type": "stream",
     "text": [
      "[nltk_data] Downloading package stopwords to\n",
      "[nltk_data]     C:\\Users\\felip\\AppData\\Roaming\\nltk_data...\n",
      "[nltk_data]   Package stopwords is already up-to-date!\n",
      "[nltk_data] Downloading package rslp to\n",
      "[nltk_data]     C:\\Users\\felip\\AppData\\Roaming\\nltk_data...\n",
      "[nltk_data]   Package rslp is already up-to-date!\n"
     ]
    }
   ],
   "source": [
    "import os\n",
    "import re\n",
    "import string\n",
    "import unicodedata\n",
    "import pandas as pd\n",
    "import numpy as np\n",
    "import random\n",
    "import re\n",
    "import nltk\n",
    "nltk.download('stopwords')\n",
    "nltk.download('rslp')\n",
    "import spacy\n",
    "from sklearn.feature_extraction.text import CountVectorizer, TfidfVectorizer, TfidfTransformer\n",
    "from sklearn.model_selection import train_test_split\n",
    "from sklearn.naive_bayes import MultinomialNB\n",
    "from sklearn.metrics import accuracy_score"
   ]
  },
  {
   "cell_type": "markdown",
   "metadata": {
    "colab_type": "text",
    "id": "5JRSR8qMxZib"
   },
   "source": [
    "### Carregamento do dataset e olhada inicial\n",
    "Observando a quantidade de tweets classificados em cada classe reparei que os classificados como negativos representavam mais de 65% dos tweets, então simplesmente criei um novo dataset com as classes balanceadas pegando amostras aleatórias, também removi algumas colunas deixando somente as do texto de interesse e sua respectiva classificação.\n",
    "<br/>\n",
    "**Observação**: Após alguns testes observei que a acurácia do modelo de classificação Naive Bayes era maior utilizando o dataset com as classes desbalanceadas.\n"
   ]
  },
  {
   "cell_type": "code",
   "execution_count": 3,
   "metadata": {
    "colab": {},
    "colab_type": "code",
    "id": "XjWI4Yyo2aIx"
   },
   "outputs": [],
   "source": [
    "path = os.path.dirname(os.path.abspath(\"__file__\"))\n",
    "dataset = pd.read_csv(path + '/NoThemeTweets.csv')"
   ]
  },
  {
   "cell_type": "code",
   "execution_count": 4,
   "metadata": {
    "colab": {
     "base_uri": "https://localhost:8080/",
     "height": 198
    },
    "colab_type": "code",
    "id": "2bpTdsf84rOe",
    "outputId": "02d2fd03-1513-48b7-ea3f-6d802e05a8e1"
   },
   "outputs": [
    {
     "data": {
      "text/html": [
       "<div>\n",
       "<style scoped>\n",
       "    .dataframe tbody tr th:only-of-type {\n",
       "        vertical-align: middle;\n",
       "    }\n",
       "\n",
       "    .dataframe tbody tr th {\n",
       "        vertical-align: top;\n",
       "    }\n",
       "\n",
       "    .dataframe thead th {\n",
       "        text-align: right;\n",
       "    }\n",
       "</style>\n",
       "<table border=\"1\" class=\"dataframe\">\n",
       "  <thead>\n",
       "    <tr style=\"text-align: right;\">\n",
       "      <th></th>\n",
       "      <th>id</th>\n",
       "      <th>tweet_text</th>\n",
       "      <th>tweet_date</th>\n",
       "      <th>sentiment</th>\n",
       "      <th>query_used</th>\n",
       "    </tr>\n",
       "  </thead>\n",
       "  <tbody>\n",
       "    <tr>\n",
       "      <th>0</th>\n",
       "      <td>1031761728445530112</td>\n",
       "      <td>@Tixaa23 14 para eu ir :)</td>\n",
       "      <td>Tue Aug 21 04:35:39 +0000 2018</td>\n",
       "      <td>Positivo</td>\n",
       "      <td>:)</td>\n",
       "    </tr>\n",
       "    <tr>\n",
       "      <th>1</th>\n",
       "      <td>1031761040462278656</td>\n",
       "      <td>@drexalvarez O meu like eu já dei na época :)</td>\n",
       "      <td>Tue Aug 21 04:32:55 +0000 2018</td>\n",
       "      <td>Positivo</td>\n",
       "      <td>:)</td>\n",
       "    </tr>\n",
       "    <tr>\n",
       "      <th>2</th>\n",
       "      <td>1031760962372689920</td>\n",
       "      <td>Eu só queria conseguir comer alguma coisa pra ...</td>\n",
       "      <td>Tue Aug 21 04:32:37 +0000 2018</td>\n",
       "      <td>Positivo</td>\n",
       "      <td>:)</td>\n",
       "    </tr>\n",
       "    <tr>\n",
       "      <th>3</th>\n",
       "      <td>1031760948250456066</td>\n",
       "      <td>:D que lindo dia !</td>\n",
       "      <td>Tue Aug 21 04:32:33 +0000 2018</td>\n",
       "      <td>Positivo</td>\n",
       "      <td>:)</td>\n",
       "    </tr>\n",
       "    <tr>\n",
       "      <th>4</th>\n",
       "      <td>1031760895985246208</td>\n",
       "      <td>@Primo_Resmungao Pq da pr jeito!!é uma \"oferta...</td>\n",
       "      <td>Tue Aug 21 04:32:21 +0000 2018</td>\n",
       "      <td>Positivo</td>\n",
       "      <td>:)</td>\n",
       "    </tr>\n",
       "  </tbody>\n",
       "</table>\n",
       "</div>"
      ],
      "text/plain": [
       "                    id                                         tweet_text  \\\n",
       "0  1031761728445530112                          @Tixaa23 14 para eu ir :)   \n",
       "1  1031761040462278656      @drexalvarez O meu like eu já dei na época :)   \n",
       "2  1031760962372689920  Eu só queria conseguir comer alguma coisa pra ...   \n",
       "3  1031760948250456066                                 :D que lindo dia !   \n",
       "4  1031760895985246208  @Primo_Resmungao Pq da pr jeito!!é uma \"oferta...   \n",
       "\n",
       "                       tweet_date sentiment query_used  \n",
       "0  Tue Aug 21 04:35:39 +0000 2018  Positivo         :)  \n",
       "1  Tue Aug 21 04:32:55 +0000 2018  Positivo         :)  \n",
       "2  Tue Aug 21 04:32:37 +0000 2018  Positivo         :)  \n",
       "3  Tue Aug 21 04:32:33 +0000 2018  Positivo         :)  \n",
       "4  Tue Aug 21 04:32:21 +0000 2018  Positivo         :)  "
      ]
     },
     "execution_count": 4,
     "metadata": {},
     "output_type": "execute_result"
    }
   ],
   "source": [
    "dataset.head()"
   ]
  },
  {
   "cell_type": "code",
   "execution_count": 5,
   "metadata": {
    "colab": {
     "base_uri": "https://localhost:8080/",
     "height": 35
    },
    "colab_type": "code",
    "id": "aH9y9hpE4qWL",
    "outputId": "5a011973-7fd6-4be3-a86a-87e1bed7600b"
   },
   "outputs": [
    {
     "data": {
      "text/plain": [
       "(785814, 5)"
      ]
     },
     "execution_count": 5,
     "metadata": {},
     "output_type": "execute_result"
    }
   ],
   "source": [
    "dataset.shape"
   ]
  },
  {
   "cell_type": "code",
   "execution_count": 6,
   "metadata": {
    "colab": {
     "base_uri": "https://localhost:8080/",
     "height": 318
    },
    "colab_type": "code",
    "id": "Fiwve-TW48qU",
    "outputId": "8743f700-5a13-4de7-f826-63516b89787f"
   },
   "outputs": [
    {
     "data": {
      "text/plain": [
       "<AxesSubplot:>"
      ]
     },
     "execution_count": 6,
     "metadata": {},
     "output_type": "execute_result"
    },
    {
     "data": {
      "image/png": "[encoded data removed]",
      "text/plain": [
       "<Figure size 432x288 with 1 Axes>"
      ]
     },
     "metadata": {
      "needs_background": "light"
     },
     "output_type": "display_data"
    }
   ],
   "source": [
    "dataset['sentiment'].value_counts().plot(kind='bar')"
   ]
  },
  {
   "cell_type": "code",
   "execution_count": 7,
   "metadata": {
    "colab": {
     "base_uri": "https://localhost:8080/",
     "height": 72
    },
    "colab_type": "code",
    "id": "8dXMIVRu4_Z7",
    "outputId": "7f8a9ad3-d607-4b71-82a8-ab00f1cf61a1"
   },
   "outputs": [
    {
     "data": {
      "text/plain": [
       "Negativo    522707\n",
       "Positivo    263107\n",
       "Name: sentiment, dtype: int64"
      ]
     },
     "execution_count": 7,
     "metadata": {},
     "output_type": "execute_result"
    }
   ],
   "source": [
    "dataset['sentiment'].value_counts()"
   ]
  },
  {
   "cell_type": "code",
   "execution_count": 8,
   "metadata": {
    "colab": {},
    "colab_type": "code",
    "id": "pT3Q943E5dQq"
   },
   "outputs": [],
   "source": [
    "tweets_negativos = dataset[dataset['sentiment'] == 'Negativo'].sample(263107)\n",
    "#tweets_negativos = dataset[dataset['sentiment'] == 'Negativo']\n",
    "tweets_positivos = dataset[dataset['sentiment'] == 'Positivo']"
   ]
  },
  {
   "cell_type": "code",
   "execution_count": 9,
   "metadata": {
    "colab": {},
    "colab_type": "code",
    "id": "FC5asIwG6e-S"
   },
   "outputs": [],
   "source": [
    "novo_dataset = pd.concat([tweets_negativos, tweets_positivos])\n",
    "novo_dataset.reset_index(drop=True, inplace=True)"
   ]
  },
  {
   "cell_type": "code",
   "execution_count": 10,
   "metadata": {
    "colab": {
     "base_uri": "https://localhost:8080/",
     "height": 198
    },
    "colab_type": "code",
    "id": "q5zSpm3Y8ZQt",
    "outputId": "d3b6bee8-628c-438b-d68d-b6d22177cbf8"
   },
   "outputs": [
    {
     "data": {
      "text/html": [
       "<div>\n",
       "<style scoped>\n",
       "    .dataframe tbody tr th:only-of-type {\n",
       "        vertical-align: middle;\n",
       "    }\n",
       "\n",
       "    .dataframe tbody tr th {\n",
       "        vertical-align: top;\n",
       "    }\n",
       "\n",
       "    .dataframe thead th {\n",
       "        text-align: right;\n",
       "    }\n",
       "</style>\n",
       "<table border=\"1\" class=\"dataframe\">\n",
       "  <thead>\n",
       "    <tr style=\"text-align: right;\">\n",
       "      <th></th>\n",
       "      <th>id</th>\n",
       "      <th>tweet_text</th>\n",
       "      <th>tweet_date</th>\n",
       "      <th>sentiment</th>\n",
       "      <th>query_used</th>\n",
       "    </tr>\n",
       "  </thead>\n",
       "  <tbody>\n",
       "    <tr>\n",
       "      <th>0</th>\n",
       "      <td>1039939900781592577</td>\n",
       "      <td>Só queria encontrar meu isomero doce :(</td>\n",
       "      <td>Wed Sep 12 18:12:48 +0000 2018</td>\n",
       "      <td>Negativo</td>\n",
       "      <td>:(</td>\n",
       "    </tr>\n",
       "    <tr>\n",
       "      <th>1</th>\n",
       "      <td>1042611788729274368</td>\n",
       "      <td>@kimthyngty Luuuu, oq aconteceu? :(</td>\n",
       "      <td>Thu Sep 20 03:09:55 +0000 2018</td>\n",
       "      <td>Negativo</td>\n",
       "      <td>:(</td>\n",
       "    </tr>\n",
       "    <tr>\n",
       "      <th>2</th>\n",
       "      <td>1042534006422745090</td>\n",
       "      <td>caralho esqueci meu cordão com o Marcos :(</td>\n",
       "      <td>Wed Sep 19 22:00:51 +0000 2018</td>\n",
       "      <td>Negativo</td>\n",
       "      <td>:(</td>\n",
       "    </tr>\n",
       "    <tr>\n",
       "      <th>3</th>\n",
       "      <td>1030504258075066368</td>\n",
       "      <td>@frzgod @TKissack20 A malu n mostra a lingua :(</td>\n",
       "      <td>Fri Aug 17 17:18:55 +0000 2018</td>\n",
       "      <td>Negativo</td>\n",
       "      <td>:(</td>\n",
       "    </tr>\n",
       "    <tr>\n",
       "      <th>4</th>\n",
       "      <td>1042944977557446657</td>\n",
       "      <td>Necesito amor :(</td>\n",
       "      <td>Fri Sep 21 01:13:54 +0000 2018</td>\n",
       "      <td>Negativo</td>\n",
       "      <td>:(</td>\n",
       "    </tr>\n",
       "  </tbody>\n",
       "</table>\n",
       "</div>"
      ],
      "text/plain": [
       "                    id                                       tweet_text  \\\n",
       "0  1039939900781592577          Só queria encontrar meu isomero doce :(   \n",
       "1  1042611788729274368              @kimthyngty Luuuu, oq aconteceu? :(   \n",
       "2  1042534006422745090       caralho esqueci meu cordão com o Marcos :(   \n",
       "3  1030504258075066368  @frzgod @TKissack20 A malu n mostra a lingua :(   \n",
       "4  1042944977557446657                                 Necesito amor :(   \n",
       "\n",
       "                       tweet_date sentiment query_used  \n",
       "0  Wed Sep 12 18:12:48 +0000 2018  Negativo         :(  \n",
       "1  Thu Sep 20 03:09:55 +0000 2018  Negativo         :(  \n",
       "2  Wed Sep 19 22:00:51 +0000 2018  Negativo         :(  \n",
       "3  Fri Aug 17 17:18:55 +0000 2018  Negativo         :(  \n",
       "4  Fri Sep 21 01:13:54 +0000 2018  Negativo         :(  "
      ]
     },
     "execution_count": 10,
     "metadata": {},
     "output_type": "execute_result"
    }
   ],
   "source": [
    "novo_dataset.head()"
   ]
  },
  {
   "cell_type": "code",
   "execution_count": 11,
   "metadata": {
    "colab": {
     "base_uri": "https://localhost:8080/",
     "height": 318
    },
    "colab_type": "code",
    "id": "TTP-bRMl66R2",
    "outputId": "1053723c-c8ce-480a-da78-2c58ec89910e"
   },
   "outputs": [
    {
     "data": {
      "text/plain": [
       "<AxesSubplot:>"
      ]
     },
     "execution_count": 11,
     "metadata": {},
     "output_type": "execute_result"
    },
    {
     "data": {
      "image/png": "[encoded data removed]",
      "text/plain": [
       "<Figure size 432x288 with 1 Axes>"
      ]
     },
     "metadata": {
      "needs_background": "light"
     },
     "output_type": "display_data"
    }
   ],
   "source": [
    "novo_dataset['sentiment'].value_counts().plot(kind='bar')"
   ]
  },
  {
   "cell_type": "code",
   "execution_count": 12,
   "metadata": {
    "colab": {},
    "colab_type": "code",
    "id": "tHEaoYIL8S-j"
   },
   "outputs": [],
   "source": [
    "novo_dataset.drop(['tweet_date', 'query_used', 'id'], axis=1, inplace=True)"
   ]
  },
  {
   "cell_type": "code",
   "execution_count": 13,
   "metadata": {
    "colab": {
     "base_uri": "https://localhost:8080/",
     "height": 198
    },
    "colab_type": "code",
    "id": "twBH6vNl9C-V",
    "outputId": "a58551e8-7bd6-4bbb-99a8-83aa3e67b686"
   },
   "outputs": [
    {
     "data": {
      "text/html": [
       "<div>\n",
       "<style scoped>\n",
       "    .dataframe tbody tr th:only-of-type {\n",
       "        vertical-align: middle;\n",
       "    }\n",
       "\n",
       "    .dataframe tbody tr th {\n",
       "        vertical-align: top;\n",
       "    }\n",
       "\n",
       "    .dataframe thead th {\n",
       "        text-align: right;\n",
       "    }\n",
       "</style>\n",
       "<table border=\"1\" class=\"dataframe\">\n",
       "  <thead>\n",
       "    <tr style=\"text-align: right;\">\n",
       "      <th></th>\n",
       "      <th>tweet_text</th>\n",
       "      <th>sentiment</th>\n",
       "    </tr>\n",
       "  </thead>\n",
       "  <tbody>\n",
       "    <tr>\n",
       "      <th>0</th>\n",
       "      <td>Só queria encontrar meu isomero doce :(</td>\n",
       "      <td>Negativo</td>\n",
       "    </tr>\n",
       "    <tr>\n",
       "      <th>1</th>\n",
       "      <td>@kimthyngty Luuuu, oq aconteceu? :(</td>\n",
       "      <td>Negativo</td>\n",
       "    </tr>\n",
       "    <tr>\n",
       "      <th>2</th>\n",
       "      <td>caralho esqueci meu cordão com o Marcos :(</td>\n",
       "      <td>Negativo</td>\n",
       "    </tr>\n",
       "    <tr>\n",
       "      <th>3</th>\n",
       "      <td>@frzgod @TKissack20 A malu n mostra a lingua :(</td>\n",
       "      <td>Negativo</td>\n",
       "    </tr>\n",
       "    <tr>\n",
       "      <th>4</th>\n",
       "      <td>Necesito amor :(</td>\n",
       "      <td>Negativo</td>\n",
       "    </tr>\n",
       "  </tbody>\n",
       "</table>\n",
       "</div>"
      ],
      "text/plain": [
       "                                        tweet_text sentiment\n",
       "0          Só queria encontrar meu isomero doce :(  Negativo\n",
       "1              @kimthyngty Luuuu, oq aconteceu? :(  Negativo\n",
       "2       caralho esqueci meu cordão com o Marcos :(  Negativo\n",
       "3  @frzgod @TKissack20 A malu n mostra a lingua :(  Negativo\n",
       "4                                 Necesito amor :(  Negativo"
      ]
     },
     "execution_count": 13,
     "metadata": {},
     "output_type": "execute_result"
    }
   ],
   "source": [
    "novo_dataset.head()"
   ]
  },
  {
   "cell_type": "markdown",
   "metadata": {
    "colab_type": "text",
    "id": "8yyatXh1z2EK"
   },
   "source": [
    "### Limpeza dos dados\n",
    "Utilizando expressões regulares, criei uma função para transformar o texto em minúsculo, remover números, remover mentions, links, pontuações e acentuações.\n",
    "<br/>Em seguida criei uma função para remover as stopwords do nossos tweets.<br/>**Stopwords** são palavras com bastante frequência que não possuem contexto e relevâncias sozinhas.\n",
    "<br/>Após esses passos reduzimos a dimensionalidade final do nosso dataset apresentado ao modelo."
   ]
  },
  {
   "cell_type": "code",
   "execution_count": 14,
   "metadata": {
    "colab": {},
    "colab_type": "code",
    "id": "ctvv1I7AB_G0"
   },
   "outputs": [],
   "source": [
    "def limpar_texto(texto):\n",
    "    texto = str(texto).lower() #transforma para minusculo\n",
    "    texto = ''.join(i for i in texto if not i.isdigit()) #remove numeros\n",
    "    texto = re.sub('@[A-Za-z0-9]+', '', texto) #remove mentions\n",
    "    texto = re.sub('\\[.*?\\]', '', texto) #remove chaves\n",
    "    texto = re.sub('https?://\\S+|www\\.\\S+', '', texto) #remove link\n",
    "    #texto = re.sub('<.*?>+', '', texto)\n",
    "    #texto = re.sub('[%s]' % re.escape(string.punctuation), '', texto) #remove pontuação\n",
    "    texto = re.sub(r'[^\\w\\s]','', texto) #remove pontuação\n",
    "    texto = re.sub('\\n', '', texto) #remove espaço\n",
    "    #texto = re.sub('\\w*\\d\\w*', '', texto)\n",
    "    texto = ''.join(ch for ch in unicodedata.normalize('NFKD', texto) if not unicodedata.combining(ch)) #remove acento\n",
    "      \n",
    "    return texto"
   ]
  },
  {
   "cell_type": "code",
   "execution_count": 15,
   "metadata": {
    "colab": {},
    "colab_type": "code",
    "id": "kj-dQbyV9I2u"
   },
   "outputs": [],
   "source": [
    "dados_limpos = novo_dataset.copy()\n",
    "dados_limpos['tweet_text'] = dados_limpos['tweet_text'].apply(lambda x: limpar_texto(x))"
   ]
  },
  {
   "cell_type": "code",
   "execution_count": 16,
   "metadata": {
    "colab": {
     "base_uri": "https://localhost:8080/",
     "height": 198
    },
    "colab_type": "code",
    "id": "AswEhUXm9zUH",
    "outputId": "d9bf139b-e66b-45b5-8637-f8553294920a"
   },
   "outputs": [
    {
     "data": {
      "text/html": [
       "<div>\n",
       "<style scoped>\n",
       "    .dataframe tbody tr th:only-of-type {\n",
       "        vertical-align: middle;\n",
       "    }\n",
       "\n",
       "    .dataframe tbody tr th {\n",
       "        vertical-align: top;\n",
       "    }\n",
       "\n",
       "    .dataframe thead th {\n",
       "        text-align: right;\n",
       "    }\n",
       "</style>\n",
       "<table border=\"1\" class=\"dataframe\">\n",
       "  <thead>\n",
       "    <tr style=\"text-align: right;\">\n",
       "      <th></th>\n",
       "      <th>tweet_text</th>\n",
       "      <th>sentiment</th>\n",
       "    </tr>\n",
       "  </thead>\n",
       "  <tbody>\n",
       "    <tr>\n",
       "      <th>0</th>\n",
       "      <td>so queria encontrar meu isomero doce</td>\n",
       "      <td>Negativo</td>\n",
       "    </tr>\n",
       "    <tr>\n",
       "      <th>1</th>\n",
       "      <td>luuuu oq aconteceu</td>\n",
       "      <td>Negativo</td>\n",
       "    </tr>\n",
       "    <tr>\n",
       "      <th>2</th>\n",
       "      <td>caralho esqueci meu cordao com o marcos</td>\n",
       "      <td>Negativo</td>\n",
       "    </tr>\n",
       "    <tr>\n",
       "      <th>3</th>\n",
       "      <td>a malu n mostra a lingua</td>\n",
       "      <td>Negativo</td>\n",
       "    </tr>\n",
       "    <tr>\n",
       "      <th>4</th>\n",
       "      <td>necesito amor</td>\n",
       "      <td>Negativo</td>\n",
       "    </tr>\n",
       "  </tbody>\n",
       "</table>\n",
       "</div>"
      ],
      "text/plain": [
       "                                 tweet_text sentiment\n",
       "0     so queria encontrar meu isomero doce   Negativo\n",
       "1                       luuuu oq aconteceu   Negativo\n",
       "2  caralho esqueci meu cordao com o marcos   Negativo\n",
       "3                 a malu n mostra a lingua   Negativo\n",
       "4                            necesito amor   Negativo"
      ]
     },
     "execution_count": 16,
     "metadata": {},
     "output_type": "execute_result"
    }
   ],
   "source": [
    "dados_limpos.head()"
   ]
  },
  {
   "cell_type": "code",
   "execution_count": 17,
   "metadata": {
    "colab": {},
    "colab_type": "code",
    "id": "ipgyBTZHDDrE"
   },
   "outputs": [],
   "source": [
    "stopwords = nltk.corpus.stopwords.words('portuguese')\n",
    "\n",
    "def removestopwords(texto):\n",
    "  resultado = ''\n",
    "  for i in texto.split():\n",
    "    if i not in stopwords:\n",
    "      resultado = resultado + ' ' + i\n",
    "  return resultado"
   ]
  },
  {
   "cell_type": "code",
   "execution_count": 18,
   "metadata": {
    "colab": {},
    "colab_type": "code",
    "id": "joIYScBqEn7h"
   },
   "outputs": [],
   "source": [
    "df_semstopwords = dados_limpos.copy()\n",
    "df_semstopwords['tweet_text'] = df_semstopwords['tweet_text'].apply(lambda x: removestopwords(x))"
   ]
  },
  {
   "cell_type": "code",
   "execution_count": 19,
   "metadata": {
    "colab": {
     "base_uri": "https://localhost:8080/",
     "height": 348
    },
    "colab_type": "code",
    "id": "MD4C3bNdExfa",
    "outputId": "c8c0da51-b403-4c1e-c498-6aa8e0cbb475"
   },
   "outputs": [
    {
     "data": {
      "text/html": [
       "<div>\n",
       "<style scoped>\n",
       "    .dataframe tbody tr th:only-of-type {\n",
       "        vertical-align: middle;\n",
       "    }\n",
       "\n",
       "    .dataframe tbody tr th {\n",
       "        vertical-align: top;\n",
       "    }\n",
       "\n",
       "    .dataframe thead th {\n",
       "        text-align: right;\n",
       "    }\n",
       "</style>\n",
       "<table border=\"1\" class=\"dataframe\">\n",
       "  <thead>\n",
       "    <tr style=\"text-align: right;\">\n",
       "      <th></th>\n",
       "      <th>tweet_text</th>\n",
       "      <th>sentiment</th>\n",
       "    </tr>\n",
       "  </thead>\n",
       "  <tbody>\n",
       "    <tr>\n",
       "      <th>0</th>\n",
       "      <td>so queria encontrar isomero doce</td>\n",
       "      <td>Negativo</td>\n",
       "    </tr>\n",
       "    <tr>\n",
       "      <th>1</th>\n",
       "      <td>luuuu oq aconteceu</td>\n",
       "      <td>Negativo</td>\n",
       "    </tr>\n",
       "    <tr>\n",
       "      <th>2</th>\n",
       "      <td>caralho esqueci cordao marcos</td>\n",
       "      <td>Negativo</td>\n",
       "    </tr>\n",
       "    <tr>\n",
       "      <th>3</th>\n",
       "      <td>malu n mostra lingua</td>\n",
       "      <td>Negativo</td>\n",
       "    </tr>\n",
       "    <tr>\n",
       "      <th>4</th>\n",
       "      <td>necesito amor</td>\n",
       "      <td>Negativo</td>\n",
       "    </tr>\n",
       "    <tr>\n",
       "      <th>5</th>\n",
       "      <td>cs eae cunhado puts kk deve odiar pressoes q ...</td>\n",
       "      <td>Negativo</td>\n",
       "    </tr>\n",
       "    <tr>\n",
       "      <th>6</th>\n",
       "      <td>exactamente nun ano estarei en santiago vou m...</td>\n",
       "      <td>Negativo</td>\n",
       "    </tr>\n",
       "    <tr>\n",
       "      <th>7</th>\n",
       "      <td>ate sobrinho vai expo nao</td>\n",
       "      <td>Negativo</td>\n",
       "    </tr>\n",
       "    <tr>\n",
       "      <th>8</th>\n",
       "      <td>nao to aguentando</td>\n",
       "      <td>Negativo</td>\n",
       "    </tr>\n",
       "    <tr>\n",
       "      <th>9</th>\n",
       "      <td>voce eh tao fofa tbm</td>\n",
       "      <td>Negativo</td>\n",
       "    </tr>\n",
       "  </tbody>\n",
       "</table>\n",
       "</div>"
      ],
      "text/plain": [
       "                                          tweet_text sentiment\n",
       "0                   so queria encontrar isomero doce  Negativo\n",
       "1                                 luuuu oq aconteceu  Negativo\n",
       "2                      caralho esqueci cordao marcos  Negativo\n",
       "3                               malu n mostra lingua  Negativo\n",
       "4                                      necesito amor  Negativo\n",
       "5   cs eae cunhado puts kk deve odiar pressoes q ...  Negativo\n",
       "6   exactamente nun ano estarei en santiago vou m...  Negativo\n",
       "7                          ate sobrinho vai expo nao  Negativo\n",
       "8                                  nao to aguentando  Negativo\n",
       "9                               voce eh tao fofa tbm  Negativo"
      ]
     },
     "execution_count": 19,
     "metadata": {},
     "output_type": "execute_result"
    }
   ],
   "source": [
    "df_semstopwords.head(10)"
   ]
  },
  {
   "cell_type": "markdown",
   "metadata": {
    "colab_type": "text",
    "id": "Oe25wy-S1lWy"
   },
   "source": [
    "### Stemming e Lemmatization\n",
    "Ainda para a tentativa de produzir um modelo mais genérico, utilizei o processo de stemização e lematização.\n",
    "<br/>\n",
    "<br/>\n",
    "**Stemming** é a técnica de reduzir uma palavra ao seu radical. Fazendo um *corte* bruto na palavra.<br/> *Exemplo*: O radical da palavra **gato** é **gat**.\n",
    "<br/>\n",
    "<br/>\n",
    "**Lemmatization** é a técnica de reduzir a palavra flexionada ao seu lema.\n",
    "<br/>\n",
    "*Exemplo*: O lema das palavras **tenho** e **tinha** é **ter**.\n",
    "<br/>\n",
    "**Observação:*** A lemmatização não foi aplicada, por mais que tenha funcionado bem para quantidades menores de dados, nesse dataset levou horas para aplicar e assim dando timeout."
   ]
  },
  {
   "cell_type": "code",
   "execution_count": 20,
   "metadata": {
    "colab": {},
    "colab_type": "code",
    "id": "MKctW9W8FNLX"
   },
   "outputs": [],
   "source": [
    "stemmer = nltk.stem.RSLPStemmer()\n",
    "def stemming(texto):\n",
    "  resultado = ''\n",
    "  for i in texto.split():\n",
    "      resultado = resultado + ' ' + str(stemmer.stem(i))\n",
    "  return resultado\n",
    "\n",
    "nlp = spacy.load('pt_core_news_sm')\n",
    "def lemmatization(texto):\n",
    "  texto = nlp(texto)\n",
    "  resultado = ''\n",
    "  for i in texto:\n",
    "    if i.pos_ == 'VERB':\n",
    "      resultado = resultado + ' ' + str(i.lemma_)\n",
    "    else:\n",
    "      resultado = resultado + ' ' + str(i)\n",
    "  return resultado"
   ]
  },
  {
   "cell_type": "code",
   "execution_count": 21,
   "metadata": {
    "colab": {},
    "colab_type": "code",
    "id": "lkf_5bUyV6wS"
   },
   "outputs": [],
   "source": [
    "df_stem = df_semstopwords.copy()\n",
    "#df_lemm = df_semstopwords.copy()\n",
    "\n",
    "df_stem['tweet_text'] = df_stem['tweet_text'].apply(lambda x: stemming(x))\n",
    "#df_lemm['tweet_text'] = df_lemm['tweet_text'].apply(lambda x: lemmatization(x))"
   ]
  },
  {
   "cell_type": "code",
   "execution_count": 22,
   "metadata": {
    "colab": {
     "base_uri": "https://localhost:8080/",
     "height": 348
    },
    "colab_type": "code",
    "id": "5wGJBQVDevzH",
    "outputId": "a9d797b1-5207-44e1-b0a4-a5e5842fbe4e"
   },
   "outputs": [
    {
     "data": {
      "text/html": [
       "<div>\n",
       "<style scoped>\n",
       "    .dataframe tbody tr th:only-of-type {\n",
       "        vertical-align: middle;\n",
       "    }\n",
       "\n",
       "    .dataframe tbody tr th {\n",
       "        vertical-align: top;\n",
       "    }\n",
       "\n",
       "    .dataframe thead th {\n",
       "        text-align: right;\n",
       "    }\n",
       "</style>\n",
       "<table border=\"1\" class=\"dataframe\">\n",
       "  <thead>\n",
       "    <tr style=\"text-align: right;\">\n",
       "      <th></th>\n",
       "      <th>tweet_text</th>\n",
       "      <th>sentiment</th>\n",
       "    </tr>\n",
       "  </thead>\n",
       "  <tbody>\n",
       "    <tr>\n",
       "      <th>0</th>\n",
       "      <td>so quer encontr isomer doc</td>\n",
       "      <td>Negativo</td>\n",
       "    </tr>\n",
       "    <tr>\n",
       "      <th>1</th>\n",
       "      <td>luuuu oq acontec</td>\n",
       "      <td>Negativo</td>\n",
       "    </tr>\n",
       "    <tr>\n",
       "      <th>2</th>\n",
       "      <td>caralh esquec corda marc</td>\n",
       "      <td>Negativo</td>\n",
       "    </tr>\n",
       "    <tr>\n",
       "      <th>3</th>\n",
       "      <td>malu n mostr lingu</td>\n",
       "      <td>Negativo</td>\n",
       "    </tr>\n",
       "    <tr>\n",
       "      <th>4</th>\n",
       "      <td>necesit am</td>\n",
       "      <td>Negativo</td>\n",
       "    </tr>\n",
       "    <tr>\n",
       "      <th>5</th>\n",
       "      <td>cs eae cunh put kk dev odi presso q ja fiz pr...</td>\n",
       "      <td>Negativo</td>\n",
       "    </tr>\n",
       "    <tr>\n",
       "      <th>6</th>\n",
       "      <td>exact nun ano est en santiag vou morr felic p...</td>\n",
       "      <td>Negativo</td>\n",
       "    </tr>\n",
       "    <tr>\n",
       "      <th>7</th>\n",
       "      <td>ate sobr vai exp nao</td>\n",
       "      <td>Negativo</td>\n",
       "    </tr>\n",
       "    <tr>\n",
       "      <th>8</th>\n",
       "      <td>nao to aguent</td>\n",
       "      <td>Negativo</td>\n",
       "    </tr>\n",
       "    <tr>\n",
       "      <th>9</th>\n",
       "      <td>voc eh tao fof tbm</td>\n",
       "      <td>Negativo</td>\n",
       "    </tr>\n",
       "  </tbody>\n",
       "</table>\n",
       "</div>"
      ],
      "text/plain": [
       "                                          tweet_text sentiment\n",
       "0                         so quer encontr isomer doc  Negativo\n",
       "1                                   luuuu oq acontec  Negativo\n",
       "2                           caralh esquec corda marc  Negativo\n",
       "3                                 malu n mostr lingu  Negativo\n",
       "4                                         necesit am  Negativo\n",
       "5   cs eae cunh put kk dev odi presso q ja fiz pr...  Negativo\n",
       "6   exact nun ano est en santiag vou morr felic p...  Negativo\n",
       "7                               ate sobr vai exp nao  Negativo\n",
       "8                                      nao to aguent  Negativo\n",
       "9                                 voc eh tao fof tbm  Negativo"
      ]
     },
     "execution_count": 22,
     "metadata": {},
     "output_type": "execute_result"
    }
   ],
   "source": [
    "df_stem.head(10)"
   ]
  },
  {
   "cell_type": "code",
   "execution_count": 23,
   "metadata": {
    "colab": {},
    "colab_type": "code",
    "id": "uFFtEb5Wexz3"
   },
   "outputs": [],
   "source": [
    "#df_lemm.head(10)"
   ]
  },
  {
   "cell_type": "code",
   "execution_count": 24,
   "metadata": {
    "colab": {},
    "colab_type": "code",
    "id": "HcHK8wd0gTrG"
   },
   "outputs": [],
   "source": [
    "#stemming\n",
    "x_data = df_semstopwords.drop(labels=['sentiment'], axis=1)\n",
    "y_data = df_semstopwords['sentiment']\n",
    "\n",
    "#lemmatização\n",
    "x_data_stem = df_stem.drop(labels=['sentiment'], axis=1)\n",
    "y_data_stem = df_stem['sentiment']\n",
    "\n",
    "#sem stemming e sem lemmatização\n",
    "#x_data_lemm = df_lemm.drop(labels=['sentiment'], axis=1)\n",
    "#y_data_lemm = df_lemm['sentiment']\n",
    "\n",
    "X_train, X_test, y_train, y_test = train_test_split(x_data['tweet_text'], y_data, test_size=.2)\n",
    "X_train_stem, X_test_stem, y_train_stem, y_test_stem = train_test_split(x_data_stem['tweet_text'], y_data_stem, test_size=.2)\n",
    "#X_train_lemm, X_test_lemm, y_train_lemm, y_test_lemm = train_test_split(x_data_lemm['tweet_text'], y_data_lemm, test_size=.2)\n",
    "\n",
    "#print(X_train.shape)\n",
    "#print(X_test.shape)\n",
    "#print(y_train.shape)\n",
    "#print(y_test.shape)"
   ]
  },
  {
   "cell_type": "markdown",
   "metadata": {
    "colab_type": "text",
    "id": "BJslZLTB4Xcu"
   },
   "source": [
    "### Tokenização e Bag of Words\n",
    "A função CountVectorizer irá tokenizar cada palavra do nosso texto e em seguida criar um vocabulário com todas as palavras do dataset, retornado um vetor onde cada coluna corresponde a cada palavra com sua frequência."
   ]
  },
  {
   "cell_type": "code",
   "execution_count": 25,
   "metadata": {
    "colab": {},
    "colab_type": "code",
    "id": "q2ssTTLjnY57"
   },
   "outputs": [],
   "source": [
    "vect = CountVectorizer()\n",
    "vect_stem = CountVectorizer()\n",
    "#vect_lemm = CountVectorizer()\n",
    "\n",
    "X_train_dtm = vect.fit_transform(X_train)\n",
    "X_test_dtm = vect.transform(X_test)\n",
    "\n",
    "X_train_stem_dtm = vect_stem.fit_transform(X_train_stem)\n",
    "X_test_stem_dtm = vect_stem.transform(X_test_stem)\n",
    "\n",
    "#X_train_dtm_lemm = vect_lemm.fit_transform(X_train_lemm)\n",
    "#X_test_dtm_lemm = vect_lemm.transform(X_test_lemm)"
   ]
  },
  {
   "cell_type": "code",
   "execution_count": 26,
   "metadata": {
    "colab": {
     "base_uri": "https://localhost:8080/",
     "height": 54
    },
    "colab_type": "code",
    "id": "Tjq5Dpvonql5",
    "outputId": "f6f8e06d-5069-4161-87b6-104c57e6b48c"
   },
   "outputs": [
    {
     "data": {
      "text/plain": [
       "<420971x150344 sparse matrix of type '<class 'numpy.int64'>'\n",
       "\twith 3010103 stored elements in Compressed Sparse Row format>"
      ]
     },
     "execution_count": 26,
     "metadata": {},
     "output_type": "execute_result"
    }
   ],
   "source": [
    "X_train_dtm"
   ]
  },
  {
   "cell_type": "code",
   "execution_count": 27,
   "metadata": {
    "colab": {
     "base_uri": "https://localhost:8080/",
     "height": 54
    },
    "colab_type": "code",
    "id": "kxBQXP9Kf7v9",
    "outputId": "37a37d09-9858-4e81-cc3f-48286f6d0c3c"
   },
   "outputs": [
    {
     "data": {
      "text/plain": [
       "<420971x99362 sparse matrix of type '<class 'numpy.int64'>'\n",
       "\twith 2986719 stored elements in Compressed Sparse Row format>"
      ]
     },
     "execution_count": 27,
     "metadata": {},
     "output_type": "execute_result"
    }
   ],
   "source": [
    "X_train_stem_dtm"
   ]
  },
  {
   "cell_type": "markdown",
   "metadata": {
    "colab_type": "text",
    "id": "Qf7-En40WtID"
   },
   "source": [
    "### TF-IDF\n",
    "É uma técnica que contabiliza a importância relativa dos termos, o cálculo é realizado em cima da frequência do termo dentro do documento e do corpus como um todo.\n",
    "<br/>\n",
    "Em alguns casos é importante a utilização para que o modelo não dê tanta relevância a palavras que estão muito repetidas."
   ]
  },
  {
   "cell_type": "code",
   "execution_count": 28,
   "metadata": {
    "colab": {},
    "colab_type": "code",
    "id": "BRR_-d2IOybd"
   },
   "outputs": [],
   "source": [
    "#tfidf_vec = TfidfTransformer(use_idf=False, norm=\"l1\")\n",
    "tfidf_vec = TfidfVectorizer()\n",
    "tfidf_vec_stem = TfidfVectorizer()\n",
    "\n",
    "X_train_tfidf = tfidf_vec.fit_transform(X_train)\n",
    "X_test_tfidf = tfidf_vec.transform(X_test)\n",
    "\n",
    "X_train_stem_tfidf = tfidf_vec_stem.fit_transform(X_train_stem)\n",
    "X_test_stem_tfidf = tfidf_vec_stem.transform(X_test_stem)"
   ]
  },
  {
   "cell_type": "code",
   "execution_count": 29,
   "metadata": {
    "colab": {
     "base_uri": "https://localhost:8080/",
     "height": 54
    },
    "colab_type": "code",
    "id": "zBI7iOhcgFrc",
    "outputId": "bc8c9016-1567-41de-e800-d90d4313b62e"
   },
   "outputs": [
    {
     "data": {
      "text/plain": [
       "<420971x150344 sparse matrix of type '<class 'numpy.float64'>'\n",
       "\twith 3010103 stored elements in Compressed Sparse Row format>"
      ]
     },
     "execution_count": 29,
     "metadata": {},
     "output_type": "execute_result"
    }
   ],
   "source": [
    "X_train_tfidf"
   ]
  },
  {
   "cell_type": "code",
   "execution_count": 30,
   "metadata": {
    "colab": {
     "base_uri": "https://localhost:8080/",
     "height": 54
    },
    "colab_type": "code",
    "id": "WigwZ4QTgHmS",
    "outputId": "32e55f0f-f27c-4444-d564-1ebdb2ac0374"
   },
   "outputs": [
    {
     "data": {
      "text/plain": [
       "<420971x99362 sparse matrix of type '<class 'numpy.float64'>'\n",
       "\twith 2986719 stored elements in Compressed Sparse Row format>"
      ]
     },
     "execution_count": 30,
     "metadata": {},
     "output_type": "execute_result"
    }
   ],
   "source": [
    "X_train_stem_tfidf"
   ]
  },
  {
   "cell_type": "markdown",
   "metadata": {
    "colab_type": "text",
    "id": "19xnx5cr6K71"
   },
   "source": [
    "### O modelo\n",
    "O algoritmo de classificação **Multinomial Naive Bayes** é uma solução básica para tarefas de análise de sentimentos.\n",
    "<br/>\n",
    "O classificador Naive Bayes é um modelo probabilístico que considera que o efeito do valor de um atributo sobre uma determinada classe é independente do valor dos outros atributos."
   ]
  },
  {
   "cell_type": "code",
   "execution_count": 31,
   "metadata": {
    "colab": {},
    "colab_type": "code",
    "id": "rBVbnU8yoWhI"
   },
   "outputs": [],
   "source": [
    "clf = MultinomialNB().fit(X_train_dtm, y_train)\n",
    "\n",
    "clf_stem = MultinomialNB().fit(X_train_stem_dtm, y_train_stem)\n",
    "\n",
    "#clf_lemm = MultinomialNB().fit(X_train_dtm_lemm, y_train_lemm)\n",
    "\n",
    "clf_tfidf = MultinomialNB().fit(X_train_tfidf, y_train)\n",
    "\n",
    "clf_stem_tfidf = MultinomialNB().fit(X_train_stem_tfidf, y_train_stem)\n"
   ]
  },
  {
   "cell_type": "code",
   "execution_count": 32,
   "metadata": {
    "colab": {},
    "colab_type": "code",
    "id": "5ofj3L8xoXqn"
   },
   "outputs": [],
   "source": [
    "y_pred = clf.predict(X_test_dtm)\n",
    "\n",
    "y_pred_stem = clf_stem.predict(X_test_stem_dtm)\n",
    "\n",
    "#y_pred_lemm = clf_lemm.predict(X_test_dtm_lemm)\n",
    "\n",
    "y_pred_tfidf = clf_tfidf.predict(X_test_tfidf)\n",
    "\n",
    "y_pred_stem_tfidf = clf_stem_tfidf.predict(X_test_stem_tfidf)"
   ]
  },
  {
   "cell_type": "markdown",
   "metadata": {
    "colab_type": "text",
    "id": "xjQWQWQFnTf5"
   },
   "source": [
    "### Avaliação do modelo\n",
    "Todos os modelos atingiram quase a mesma acurácia, caberia definir qual o aceitável e a partir dai realizar criação de features e aplicar outras técnicas no pré-processamento na tentativa de melhorar a acurácia desse modelo.\n",
    "<br/>\n",
    "Outra opção seria testar outros algoritmos e métricas de avaliação."
   ]
  },
  {
   "cell_type": "code",
   "execution_count": 33,
   "metadata": {
    "colab": {},
    "colab_type": "code",
    "id": "045o3kMfqMgj"
   },
   "outputs": [],
   "source": [
    "acuracia = accuracy_score(y_test, y_pred)\n",
    "\n",
    "acuracia_stem = accuracy_score(y_test_stem, y_pred_stem)\n",
    "\n",
    "#acuracia_lemm = accuracy_score(y_test_lemm, y_pred_lemm)\n",
    "\n",
    "acuracia_tfidf = accuracy_score(y_test, y_pred_tfidf)\n",
    "\n",
    "acuracia_stem_tfidf = accuracy_score(y_test_stem, y_pred_stem_tfidf)"
   ]
  },
  {
   "cell_type": "code",
   "execution_count": 34,
   "metadata": {
    "colab": {
     "base_uri": "https://localhost:8080/",
     "height": 108
    },
    "colab_type": "code",
    "id": "DXPYS6L9vqeJ",
    "outputId": "76f3f4f1-9bae-4c5e-8bac-c8855db83f14"
   },
   "outputs": [
    {
     "name": "stdout",
     "output_type": "stream",
     "text": [
      "Acurácia dos modelos:\n",
      "Modelo sem stemização e lematização: 0.7678325399313969\n",
      "Modelo com stemização: 0.7580076584665963\n",
      "Modelo usando tfidf sem stemização e lematização: 0.7669868779871345\n",
      "Modelo usando tfidf com stemização: 0.7555371853709986\n"
     ]
    }
   ],
   "source": [
    "print('Acurácia dos modelos:')\n",
    "print('Modelo sem stemização e lematização: {}'.format(acuracia))\n",
    "print('Modelo com stemização: {}'.format(acuracia_stem))\n",
    "#print('Modelo com lematização: {}'.format(acuracia_lemm))\n",
    "print('Modelo usando tfidf sem stemização e lematização: {}'.format(acuracia_tfidf))\n",
    "print('Modelo usando tfidf com stemização: {}'.format(acuracia_stem_tfidf))"
   ]
  },
  {
   "cell_type": "markdown",
   "metadata": {
    "colab_type": "text",
    "id": "p0BpHy3Buj47"
   },
   "source": [
    "O modelo utilizando somente a limpeza dos dados e remoção das stopwords obteve uma perfomance ligeiramente melhor sobre os outros."
   ]
  },
  {
   "cell_type": "markdown",
   "metadata": {
    "colab_type": "text",
    "id": "wLlkc_UEsOtr"
   },
   "source": [
    "### Realizando um simples teste manual\n"
   ]
  },
  {
   "cell_type": "code",
   "execution_count": 35,
   "metadata": {
    "colab": {
     "base_uri": "https://localhost:8080/",
     "height": 35
    },
    "colab_type": "code",
    "id": "cyECjXsVmeeS",
    "outputId": "a8244664-d234-4d7e-bc82-0b81a253ba76"
   },
   "outputs": [
    {
     "name": "stdout",
     "output_type": "stream",
     "text": [
      "Esse desafio da AEVO me deixou animado! => Positivo\n"
     ]
    }
   ],
   "source": [
    "frase = 'Esse desafio da AEVO me deixou animado!'\n",
    "\n",
    "#pré-processamento\n",
    "x_frase = limpar_texto(frase)\n",
    "x_frase = removestopwords(x_frase)\n",
    "x_frase = [x_frase]\n",
    "x_frase_dtm = vect.transform(x_frase)\n",
    "\n",
    "pred_frase = clf.predict(x_frase_dtm)\n",
    "print('{} => {}'.format(frase, pred_frase[0]))"
   ]
  },
  {
   "cell_type": "markdown",
   "metadata": {
    "colab_type": "text",
    "id": "5R38JORnu1dq"
   },
   "source": [
    "**Obrigado**."
   ]
  }
 ],
 "metadata": {
  "colab": {
   "collapsed_sections": [],
   "name": "analise_de_sentimentos.ipynb",
   "provenance": [],
   "toc_visible": true
  },
  "kernelspec": {
   "display_name": "Python 3",
   "language": "python",
   "name": "python3"
  },
  "language_info": {
   "codemirror_mode": {
    "name": "ipython",
    "version": 3
   },
   "file_extension": ".py",
   "mimetype": "text/x-python",
   "name": "python",
   "nbconvert_exporter": "python",
   "pygments_lexer": "ipython3",
   "version": "3.8.5"
  }
 },
 "nbformat": 4,
 "nbformat_minor": 1
}
